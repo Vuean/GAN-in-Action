{
 "cells": [
  {
   "cell_type": "markdown",
   "metadata": {},
   "source": [
    "### 4.4.1 导入模块并制定模型输入维度"
   ]
  },
  {
   "cell_type": "code",
   "execution_count": 31,
   "metadata": {},
   "outputs": [],
   "source": [
    "# 导入声明\n",
    "%matplotlib inline\n",
    "\n",
    "import matplotlib.pyplot as plt\n",
    "import numpy as np\n",
    "\n",
    "from keras.datasets import mnist\n",
    "from keras.layers import Activation, BatchNormalization, Dense, Dropout, Flatten, Reshape\n",
    "from keras.layers.advanced_activations import LeakyReLU\n",
    "from keras.layers.convolutional import Conv2D, Conv2DTranspose\n",
    "from keras.models import Sequential\n",
    "from keras.optimizers import Adam"
   ]
  },
  {
   "cell_type": "code",
   "execution_count": 32,
   "metadata": {},
   "outputs": [],
   "source": [
    "# 指定模型输入维度：图像尺寸和噪声向量z的长度：\n",
    "img_rows = 28\n",
    "img_cols = 28\n",
    "channels = 1\n",
    "\n",
    "# 输入图像的维度\n",
    "img_shape = (img_rows, img_cols, channels)\n",
    "\n",
    "# 输入生成器的噪声向量的大小\n",
    "z_dim = 100"
   ]
  },
  {
   "cell_type": "markdown",
   "metadata": {},
   "source": [
    "### 4.4.2 构造生成器"
   ]
  },
  {
   "cell_type": "code",
   "execution_count": 33,
   "metadata": {},
   "outputs": [],
   "source": [
    "def build_generator(z_dim):\n",
    "    model = Sequential()\n",
    "\n",
    "    # 通过全连接层将输入重新调整大小为7×7×256的张量\n",
    "    model.add(Dense(256 * 7 * 7, input_dim = z_dim))\n",
    "    model.add(Reshape((7, 7, 256)))\n",
    "\n",
    "    # 转置卷积层从大小为7×7×256的张量到14×14×128的张量\n",
    "    model.add(Conv2DTranspose(128, kernel_size=3, strides=2, padding='same'))\n",
    "\n",
    "    # 批归一化\n",
    "    model.add(BatchNormalization())\n",
    "\n",
    "    # LeakyReLU激活函数\n",
    "    model.add(LeakyReLU(alpha=0.01))\n",
    "\n",
    "    # 转置卷积层从大小为14×14×128的张量到14×14×64的张量\n",
    "    model.add(Conv2DTranspose(64, kernel_size=3, strides=1, padding='same'))\n",
    "\n",
    "    # 批归一化\n",
    "    model.add(BatchNormalization())\n",
    "\n",
    "    # LeakyReLU激活函数\n",
    "    model.add(LeakyReLU(alpha=0.01))\n",
    "\n",
    "    # 转置卷积层从大小为14×14×64的张量到28×28×1的张量\n",
    "    model.add(Conv2DTranspose(1, kernel_size=3, strides=2, padding='same'))\n",
    "\n",
    "    # 带tanh激活函数的输出层\n",
    "    model.add(Activation('tanh'))\n",
    "\n",
    "    return model"
   ]
  },
  {
   "cell_type": "markdown",
   "metadata": {},
   "source": [
    "### 4.4.3 构造鉴别器"
   ]
  },
  {
   "cell_type": "code",
   "execution_count": 34,
   "metadata": {},
   "outputs": [],
   "source": [
    "def build_discriminator(img_shape):\n",
    "\n",
    "    model = Sequential()\n",
    "\n",
    "    # 卷积层，从大小为28×28×1的张量到14×14×32的张量\n",
    "    model.add(Conv2D(32, kernel_size=3, strides=2, input_shape=img_shape, padding='same'))\n",
    "\n",
    "    # LeakyReLU激活函数\n",
    "    model.add(LeakyReLU(alpha=0.01))\n",
    "\n",
    "    # 卷积层，从大小14×14×32的张量到7×7×64的张量\n",
    "    model.add(Conv2D(64, kernel_size=3, strides=2, input_shape=img_shape, padding='same'))\n",
    "\n",
    "    # 批归一化\n",
    "    model.add(BatchNormalization())\n",
    "\n",
    "    # LeakyReLU激活函数\n",
    "    model.add(LeakyReLU(alpha=0.01))\n",
    "\n",
    "    # 卷积层，从大小7×7×64的张量到3×3×128的张量\n",
    "    model.add(Conv2D(128, kernel_size=3, strides=2, input_shape=img_shape, padding='same'))\n",
    "\n",
    "    # 批归一化\n",
    "    model.add(BatchNormalization())\n",
    "\n",
    "    # LeakyReLU激活函数\n",
    "    model.add(LeakyReLU(alpha=0.01))\n",
    "\n",
    "    # 带sigmoid激活函数的输出层\n",
    "    model.add(Flatten())\n",
    "    model.add(Dense(1, activation='sigmoid'))\n",
    "\n",
    "    return model"
   ]
  },
  {
   "cell_type": "markdown",
   "metadata": {},
   "source": [
    "### 4.4.4　构建并运行DCGAN"
   ]
  },
  {
   "cell_type": "code",
   "execution_count": 35,
   "metadata": {},
   "outputs": [],
   "source": [
    "def build_gan(generator, discriminator):\n",
    "    model = Sequential()\n",
    "\n",
    "    # 生成器和鉴别器结合成一个模型\n",
    "    model.add(generator)\n",
    "    model.add(discriminator)\n",
    "\n",
    "    return model"
   ]
  },
  {
   "cell_type": "code",
   "execution_count": 36,
   "metadata": {},
   "outputs": [],
   "source": [
    "# 构建并编译鉴别器\n",
    "discriminator = build_discriminator(img_shape)\n",
    "discriminator.compile(loss='binary_crossentropy',\n",
    "                                            optimizer=Adam(),\n",
    "                                            metrics=['accuracy'])\n",
    "\n",
    "# 构建生成器\n",
    "generator = build_generator(z_dim)\n",
    "\n",
    "# 生成器训练时鉴别器参数保持不变\n",
    "discriminator.trainable = False\n",
    "\n",
    "# 构建并编译鉴别器固定的GAN模型来训练生成器\n",
    "gan = build_gan(generator, discriminator)\n",
    "gan.compile(loss='binary_crossentropy', optimizer=Adam())"
   ]
  },
  {
   "cell_type": "code",
   "execution_count": 37,
   "metadata": {},
   "outputs": [],
   "source": [
    "# 训练DCGAN\n",
    "losses = []\n",
    "accuracies = []\n",
    "iteration_checkpoints = []\n",
    "\n",
    "def train(iterations, batch_size, sample_interval):\n",
    "\n",
    "    # 加载MNIST数据\n",
    "    (X_train, _), (_, _) = mnist.load_data()\n",
    "\n",
    "    # 灰度像素值从[0，255]缩放到[1，1]\n",
    "    X_train = X_train / 127.5 - 1.0\n",
    "    X_train = np.expand_dims(X_train, axis=3)\n",
    "\n",
    "    # 真实图像标签为1\n",
    "    real = np.ones((batch_size, 1))\n",
    "\n",
    "    # 伪图像标签为0\n",
    "    fake = np.zeros((batch_size, 1))\n",
    "\n",
    "    for iteration in range(iterations):\n",
    "\n",
    "        # -------------------------\n",
    "        #  Train the Discriminator\n",
    "        # -------------------------\n",
    "\n",
    "        # 获取一批真实图像\n",
    "        idx = np.random.randint(0, X_train.shape[0], batch_size)\n",
    "        imgs = X_train[idx]\n",
    "\n",
    "        # 生成一批伪图像\n",
    "        z = np.random.normal(0, 1, (batch_size, 100))\n",
    "        gen_imgs = generator.predict(z)\n",
    "\n",
    "        # 训练鉴别器\n",
    "        d_loss_real = discriminator.train_on_batch(imgs, real)\n",
    "        d_loss_fake = discriminator.train_on_batch(gen_imgs, fake)\n",
    "        d_loss, accuracy = 0.5 * np.add(d_loss_real, d_loss_fake)\n",
    "\n",
    "        # ---------------------\n",
    "        #  Train the Generator\n",
    "        # ---------------------\n",
    "\n",
    "        # 生成一批伪图像\n",
    "        z = np.random.normal(0, 1, (batch_size, 100))\n",
    "        gen_imgs = generator.predict(z)\n",
    "\n",
    "        # 训练生成器\n",
    "        g_loss = gan.train_on_batch(z, real)\n",
    "\n",
    "        if(iteration + 1) % sample_interval == 0:\n",
    "\n",
    "            # Save losses and accuracies so they can be plotted after training\n",
    "            losses.append((d_loss, g_loss))\n",
    "            accuracies.append(100.0 * accuracy)\n",
    "            iteration_checkpoints.append(iteration + 1)\n",
    "\n",
    "            # 输出训练过程\n",
    "            print(\"%d [D loss: %f, acc.: %.2f%%] [G loss: %f]\" % \n",
    "                        (iteration + 1, d_loss, 100.0 * accuracy, g_loss))\n",
    "            \n",
    "            # 输出生成图像的采样\n",
    "            sample_images(generator)"
   ]
  },
  {
   "cell_type": "code",
   "execution_count": 38,
   "metadata": {},
   "outputs": [],
   "source": [
    "def sample_images(generator, image_grid_rows = 4, image_grid_columns = 4):\n",
    "\n",
    "    # 随机噪声采样\n",
    "    z = np.random.normal(0, 1, (image_grid_rows * image_grid_columns, z_dim))\n",
    "\n",
    "    # 从随机噪声生成图像\n",
    "    gen_imgs = generator.predict(z)\n",
    "\n",
    "    # 图像像素缩放到[0, 1]\n",
    "    gen_imgs = 0.5 * gen_imgs + 0.5\n",
    "\n",
    "    # 设置图像网格\n",
    "    fig, axs = plt.subplots(image_grid_rows, image_grid_columns,\n",
    "                                                    figsize=(4, 4),\n",
    "                                                    sharey=True,\n",
    "                                                    sharex=True)\n",
    "    \n",
    "    cnt = 0\n",
    "    for i in range(image_grid_rows):\n",
    "        for j in range(image_grid_columns):\n",
    "            # 输出图像网格\n",
    "            axs[i, j].imshow(gen_imgs[cnt, :, :, 0], cmap='gray')\n",
    "            axs[i, j].axis('off')\n",
    "            cnt += 1"
   ]
  },
  {
   "cell_type": "code",
   "execution_count": null,
   "metadata": {},
   "outputs": [],
   "source": [
    "# 运行模型\n",
    "\n",
    "# 设置超参数\n",
    "iterations = 20000\n",
    "batch_size = 128\n",
    "sample_interval = 1000\n",
    "\n",
    "# 训练DCGAN直到制定的迭代次数\n",
    "train(iterations, batch_size, sample_interval)"
   ]
  },
  {
   "cell_type": "code",
   "execution_count": null,
   "metadata": {},
   "outputs": [],
   "source": [
    "losses = np.array(losses)\n",
    "\n",
    "# Plot training losses for Discriminator and Generator\n",
    "plt.figure(figsize=(15, 5))\n",
    "plt.plot(iteration_checkpoints, losses.T[0], label=\"Discriminator loss\")\n",
    "plt.plot(iteration_checkpoints, losses.T[1], label=\"Generator loss\")\n",
    "\n",
    "plt.xticks(iteration_checkpoints, rotation=90)\n",
    "\n",
    "plt.title(\"Training Loss\")\n",
    "plt.xlabel(\"Iteration\")\n",
    "plt.ylabel(\"Loss\")\n",
    "plt.legend()"
   ]
  },
  {
   "cell_type": "code",
   "execution_count": null,
   "metadata": {},
   "outputs": [],
   "source": [
    "accuracies = np.array(accuracies)\n",
    "\n",
    "# Plot Discriminator accuracy\n",
    "plt.figure(figsize=(15, 5))\n",
    "plt.plot(iteration_checkpoints, accuracies, label=\"Discriminator accuracy\")\n",
    "\n",
    "plt.xticks(iteration_checkpoints, rotation=90)\n",
    "plt.yticks(range(0, 100, 5))\n",
    "\n",
    "plt.title(\"Discriminator Accuracy\")\n",
    "plt.xlabel(\"Iteration\")\n",
    "plt.ylabel(\"Accuracy (%)\")\n",
    "plt.legend()"
   ]
  }
 ],
 "metadata": {
  "kernelspec": {
   "display_name": "Python 3.8.8 ('Vuean_ML')",
   "language": "python",
   "name": "python3"
  },
  "language_info": {
   "codemirror_mode": {
    "name": "ipython",
    "version": 3
   },
   "file_extension": ".py",
   "mimetype": "text/x-python",
   "name": "python",
   "nbconvert_exporter": "python",
   "pygments_lexer": "ipython3",
   "version": "3.8.8"
  },
  "orig_nbformat": 4,
  "vscode": {
   "interpreter": {
    "hash": "96bbb65fb5df4d9cc0d3b437c46ecfe8c6742e111c114025f0cea31b14306341"
   }
  }
 },
 "nbformat": 4,
 "nbformat_minor": 2
}
